{
 "cells": [
  {
   "cell_type": "code",
   "execution_count": 1,
   "metadata": {
    "collapsed": true
   },
   "outputs": [],
   "source": [
    "from astropy.table import Table, column, vstack\n",
    "import astropy.units as u\n",
    "import numpy as np\n",
    "import os\n",
    "import pandas as pd\n",
    "\n",
    "%matplotlib inline\n",
    "import matplotlib as mpl\n",
    "from matplotlib import pyplot as plt\n",
    "# better-looking plots\n",
    "plt.rcParams['font.family'] = 'serif'\n",
    "plt.rcParams['figure.figsize'] = (10.0, 8)\n",
    "plt.rcParams['font.size'] = 18\n",
    "mpl.ticker.AutoLocator.default_params['nbins'] = 5\n",
    "mpl.ticker.AutoLocator.default_params['prune'] = 'both'\n",
    "\n",
    "mpl.rcParams['ps.useafm'] = True\n",
    "mpl.rcParams['pdf.use14corefonts'] = True\n",
    "mpl.rcParams['text.usetex'] = True\n",
    "\n",
    "import sys\n",
    "sys.path.append('../astro_codes/')"
   ]
  },
  {
   "cell_type": "code",
   "execution_count": 2,
   "metadata": {
    "collapsed": false
   },
   "outputs": [
    {
     "name": "stderr",
     "output_type": "stream",
     "text": [
      "WARNING: UnitsWarning: 'AB' did not parse as fits unit: At col 0, Unit 'AB' not supported by the FITS standard. Did you mean aWb? [astropy.units.core]\n",
      "WARNING:astropy:UnitsWarning: 'AB' did not parse as fits unit: At col 0, Unit 'AB' not supported by the FITS standard. Did you mean aWb?\n"
     ]
    }
   ],
   "source": [
    "galaxy_data = Table.read('s4g_fits/galaxy_data.fits')\n",
    "bulge_disc_data = Table.read('s4g_fits/bulge_disc_matched.fits')\n",
    "morph_data = Table.read('s4g_fits/buta_matched.fits')\n",
    "psi_data = Table.read('s4g_fits/psi_matched.fits')"
   ]
  },
  {
   "cell_type": "markdown",
   "metadata": {},
   "source": [
    "#### Sample selection"
   ]
  },
  {
   "cell_type": "code",
   "execution_count": 3,
   "metadata": {
    "collapsed": false
   },
   "outputs": [],
   "source": [
    "has_arms = np.any([morph_data['AC'] == b'G',morph_data['AC'] == b'M',\n",
    "                   morph_data['AC'] == b'F'],axis=0)"
   ]
  },
  {
   "cell_type": "code",
   "execution_count": 4,
   "metadata": {
    "collapsed": false
   },
   "outputs": [
    {
     "data": {
      "text/plain": [
       "array([False,  True,  True, ..., False,  True, False], dtype=bool)"
      ]
     },
     "execution_count": 4,
     "metadata": {},
     "output_type": "execute_result"
    }
   ],
   "source": [
    "has_arms"
   ]
  },
  {
   "cell_type": "code",
   "execution_count": 5,
   "metadata": {
    "collapsed": false
   },
   "outputs": [
    {
     "name": "stdout",
     "output_type": "stream",
     "text": [
      "204/2352 galaxies with bulge+disc\n",
      "+ 101 are unbarred\n"
     ]
    },
    {
     "name": "stderr",
     "output_type": "stream",
     "text": [
      "/home/ppxrh/anaconda3/lib/python3.4/site-packages/ipykernel/__main__.py:2: RuntimeWarning: invalid value encountered in greater_equal\n",
      "  from ipykernel import kernelapp as app\n",
      "/home/ppxrh/anaconda3/lib/python3.4/site-packages/ipykernel/__main__.py:3: RuntimeWarning: invalid value encountered in less_equal\n",
      "  app.launch_new_instance()\n",
      "/home/ppxrh/anaconda3/lib/python3.4/site-packages/ipykernel/__main__.py:7: RuntimeWarning: invalid value encountered in less_equal\n"
     ]
    }
   ],
   "source": [
    "# Select a sample of spirals from the Buta+ classifications\n",
    "morph_ok = np.all([morph_data['__T_'] >= 1,\n",
    "                   morph_data['__T_'] <= 9],axis=0)\n",
    "\n",
    "has_arms = np.any([morph_data['AC'] == b'G',morph_data['AC'] == b'M',\n",
    "                   morph_data['AC'] == b'F'],axis=0)\n",
    "unbarred = morph_data['__F_'] <= 0.25\n",
    "\n",
    "# Type decompositions: only select galaxies with a clear disc\n",
    "acceptable_types = ('bd','bdbar','bdbarf','dbar','dbarf',\n",
    "                    'dn','bdbarfn','dbarfn','dbarn','dbarnf')\n",
    "type_ok = np.any([bulge_disc_data['model'] == type_ \n",
    "                  for type_ in acceptable_types],axis=0)\n",
    "\n",
    "bulge_disc_ok = (bulge_disc_data['f_bulge'] \n",
    "               + bulge_disc_data['f_disc']) >= 0.9\n",
    "# ^ only selecting the disc galaxies\n",
    "fit_ok = bulge_disc_data['quality'] == '5' # good fits only\n",
    "\n",
    "# General catalogue properties\n",
    "has_mass = np.isfinite(galaxy_data['m_tot'])\n",
    "disc_ok = bulge_disc_data['R_d'] > 0\n",
    "has_psi = psi_data['P_abs'] > 0\n",
    "\n",
    "sample = np.all([morph_ok,has_arms,\n",
    "                 type_ok,bulge_disc_ok,fit_ok,\n",
    "                 has_mass,disc_ok],axis=0)\n",
    "unbarred_sample = np.all([sample,unbarred],axis=0)\n",
    "print('{}/{} galaxies with bulge+disc'.format(sample.sum(),len(sample)))\n",
    "print('+ {} are unbarred'.format(unbarred_sample.sum()))"
   ]
  },
  {
   "cell_type": "code",
   "execution_count": 6,
   "metadata": {
    "collapsed": false
   },
   "outputs": [],
   "source": [
    "from halo import TotalHalo\n",
    "\n",
    "m_tot = galaxy_data['m_tot'][sample] * u.Msun\n",
    "delta_m_tot = galaxy_data['delta_m_tot'][sample] * u.Msun\n",
    "\n",
    "m_b = bulge_disc_data['f_bulge'][sample].data * m_tot\n",
    "m_b[m_b < 0] = 0\n",
    "delta_m_b = bulge_disc_data['f_bulge'][sample].data * delta_m_tot\n",
    "delta_m_b[delta_m_b < 0] = 0\n",
    "\n",
    "m_d = bulge_disc_data['f_disc'][sample].data * m_tot\n",
    "m_d[m_d < 0] = 0\n",
    "delta_m_d = bulge_disc_data['f_disc'][sample].data * delta_m_tot\n",
    "delta_m_d[delta_m_d < 0] = 0\n",
    "\n",
    "a_b = bulge_disc_data['R_b'][sample].data * u.kpc\n",
    "a_b[a_b < 0] = 0\n",
    "delta_a_b = bulge_disc_data['delta_R_b'][sample].data * u.kpc\n",
    "delta_a_b[a_b < 0] = 0\n",
    "\n",
    "R_d = bulge_disc_data['R_d'][sample].data * u.kpc\n",
    "R_d[R_d < 0] = 0\n",
    "delta_R_d = bulge_disc_data['delta_R_d'][sample].data * u.kpc\n",
    "R_d[delta_R_d < 0] = 0\n",
    "\n",
    "halos = TotalHalo(m_b,delta_m_b,m_d,delta_m_d,a_b,delta_a_b,\n",
    "                  R_d, delta_R_d, None, None)"
   ]
  },
  {
   "cell_type": "code",
   "execution_count": 7,
   "metadata": {
    "collapsed": false
   },
   "outputs": [],
   "source": [
    "class HistogramData():\n",
    "    def __init__(self,data,data2,color,bins,log,alpha=0.3,color2='k'):\n",
    "        self.data = data\n",
    "        self.data2 = data2\n",
    "        self.color = color\n",
    "        self.bins = bins\n",
    "        self.log = log\n",
    "        self.alpha = alpha\n",
    "        self.color2 = color2\n",
    "        \n",
    "    def histogram(self,ax):\n",
    "        histdata = (np.log10(self.data.data) \n",
    "                    if self.log is True else self.data.data)\n",
    "        _ = ax.hist(histdata,self.bins,\n",
    "                    histtype='stepfilled',color=self.color,alpha=self.alpha)\n",
    "        _ = ax.hist(histdata,self.bins,histtype='step',color=self.color)\n",
    "        if self.data2 is not None:\n",
    "            histdata2 = (np.log10(self.data2.data) \n",
    "                         if self.log is True else self.data2.data)\n",
    "            _ = ax.hist(histdata2,self.bins,histtype='step',lw=3,color=self.color2)\n",
    "            \n",
    "    def uncertainty(self,data):\n",
    "        if self.log is False:\n",
    "            med_error = np.median(data.uncertainty.array)\n",
    "        else:\n",
    "            med_error = 0.434 * np.median(data.uncertainty.array\n",
    "                                         /data.data)\n",
    "        return med_error\n",
    "        \n",
    "            \n",
    "    def uncertainty_bar(self,ax):\n",
    "        (xlower,xupper), (ylower,yupper) = (ax.get_xlim(), ax.get_ylim())\n",
    "        med_error = self.uncertainty(self.data)\n",
    "        x_pos, y_pos = (0.05*(xupper-xlower) + xlower,\n",
    "                        0.85*(yupper-ylower) + ylower)\n",
    "        _ = ax.errorbar(x_pos,y_pos,xerr=([0],[med_error]),\n",
    "                        lw=2,capthick=2,capsize=2,color=self.color)\n",
    "        \n",
    "        if self.data2 is not None:\n",
    "            med_error = self.uncertainty(self.data2)\n",
    "            x_pos, y_pos = (0.05*(xupper-xlower) + xlower,\n",
    "                            0.75*(yupper-ylower) + ylower)\n",
    "            _ = ax.errorbar(x_pos,y_pos,xerr=([0],[med_error]),\n",
    "                            lw=2,capthick=2,capsize=2,color=self.color2)\n",
    "            \n",
    "    def median_line(self,ax,printout=False,**kwargs):\n",
    "        plt.sca(ax)\n",
    "        med_ = (np.median(np.log10(self.data)) if self.log is True \n",
    "                else np.median(self.data))\n",
    "        _ = plt.axvline(med_,color=self.color,**kwargs)\n",
    "        print(med_) if printout is True else None\n",
    "            \n",
    "        if self.data2 is not None:\n",
    "            med_ = (np.median(np.log10(self.data2)) if self.log is True \n",
    "                else np.median(self.data2))\n",
    "            _ = plt.axvline(med_,color=self.color2,**kwargs)\n",
    "            print(med_) if printout is True else None\n",
    "\n",
    "\n",
    "data = [HistogramData(halos.disc_mass(hi=False),None,\n",
    "                      'y',np.linspace(8,12,21),True),\n",
    "        \n",
    "        HistogramData(halos.stellar_disc_scale_length(),None,\n",
    "                      'y',np.linspace(0,10,21),False),\n",
    "        \n",
    "        HistogramData(halos.bulge_mass(),None,\n",
    "                      'b',np.linspace(8,12,21),True),\n",
    "       \n",
    "        HistogramData(halos.bulge_scale_length(),None,\n",
    "                      'b',np.linspace(0,2.5,21),False),\n",
    "        \n",
    "        HistogramData(halos.halo_mass(),None,\n",
    "                      'r',np.linspace(10,14,21),True),\n",
    "        \n",
    "        HistogramData(halos.halo_scale_length()[0],None,\n",
    "                      'r',np.linspace(5,65,21),False)]"
   ]
  },
  {
   "cell_type": "code",
   "execution_count": 8,
   "metadata": {
    "collapsed": false
   },
   "outputs": [
    {
     "name": "stdout",
     "output_type": "stream",
     "text": [
      "10.3517084736\n",
      "1.9917600461\n",
      "9.09755754035\n",
      "0.0879959208569\n",
      "12.0010108525\n",
      "24.7907520025\n"
     ]
    },
    {
     "data": {
      "image/png": "[encoded data removed]",
      "text/plain": [
       "<matplotlib.figure.Figure at 0x2b9a921162b0>"
      ]
     },
     "metadata": {},
     "output_type": "display_data"
    }
   ],
   "source": [
    "fig, axarr = plt.subplots(3,2,figsize=(10,15),sharey=True)\n",
    "\n",
    "xlabels = ('$\\log(\\mathrm{M_d} \\, [\\mathrm{M_\\odot}])$',\n",
    "           '$R_\\mathrm{d} \\, [\\mathrm{kpc}]$',\n",
    "           '$\\log(\\mathrm{M_b} \\, [\\mathrm{M_\\odot}])$',\n",
    "           '$a_\\mathrm{b} \\, [\\mathrm{kpc}]$',\n",
    "           '$\\log(\\mathrm{M_h} \\, [\\mathrm{M_\\odot}])$',\n",
    "           '$a_\\mathrm{h} \\, [\\mathrm{kpc}]$')\n",
    "\n",
    "letters = 'abcdef'\n",
    "\n",
    "for ax in axarr[:,0]:\n",
    "    ax.set_ylabel('$N_\\mathrm{gal}$')\n",
    "    \n",
    "axarr = axarr.ravel()\n",
    "\n",
    "for ax, d, xlabel,letter in zip(axarr,data,xlabels,letters):\n",
    "    plt.sca(ax)\n",
    "    _ = d.histogram(ax)\n",
    "    _ = d.median_line(ax,True,lw=2,linestyle='dashed')\n",
    "    _ = d.uncertainty_bar(ax)\n",
    "    _ = ax.set_xlabel(xlabel)\n",
    "    _ = ax.text(0.025,0.975,'({})'.format(letter),\n",
    "                transform=ax.transAxes,ha='left',va='top')\n",
    "    \n",
    "_ = fig.tight_layout()\n",
    "\n",
    "_ = axarr[1].plot([],[],color='y',lw=10,alpha=0.3,label='galaxy sample')\n",
    "#_ = axarr[1].plot([],[],color='k',lw=3,label=r'stars + H\\textsc{i}')\n",
    "_ = axarr[1].legend(loc='upper right',\n",
    "                    edgecolor='k',fancybox=False)\n",
    "\n",
    "#fig.savefig('figures/parameter_histograms.pdf')"
   ]
  },
  {
   "cell_type": "code",
   "execution_count": 9,
   "metadata": {
    "collapsed": false
   },
   "outputs": [],
   "source": [
    "def get_halo_table(halos):\n",
    "\n",
    "    halo_table = Table()\n",
    "\n",
    "    halo_table['M_disc_stars'] = halos.disc_mass(hi=False).data\n",
    "    halo_table['delta_M_disc_stars'] = halos.disc_mass(hi=False).uncertainty.array\n",
    "\n",
    "    halo_table['M_disc_total'] = halos.disc_mass(hi=True).data\n",
    "    halo_table['delta_M_disc_total'] = halos.disc_mass(hi=True).uncertainty.array\n",
    "\n",
    "    halo_table['R_disc_stars'] = halos.stellar_disc_scale_length().data\n",
    "    halo_table['delta_R_disc_stars'] = halos.stellar_disc_scale_length().uncertainty.array\n",
    "\n",
    "    halo_table['R_disc_total'] = halos.disc_scale_length().data\n",
    "    halo_table['delta_R_disc_total'] = halos.disc_scale_length().uncertainty.array\n",
    "\n",
    "    halo_table['M_bulge'] = halos.bulge_mass().data\n",
    "    halo_table['delta_M_bulge'] = halos.bulge_mass().uncertainty.array\n",
    "\n",
    "    halo_table['R_bulge'] = halos.bulge_scale_length().data\n",
    "    halo_table['delta_R_bulge'] = halos.bulge_scale_length().uncertainty.array\n",
    "\n",
    "    halo_table['M_halo'] = halos.halo_mass().data\n",
    "    halo_table['delta_M_halo'] = halos.halo_mass().uncertainty.array\n",
    "\n",
    "    halo_table['R_halo'] = halos.halo_scale_length()[1].data\n",
    "    halo_table['delta_R_halo'] = halos.halo_scale_length()[1].uncertainty.array\n",
    "\n",
    "    r_d = [1,1.5,2,2.2]\n",
    "    for r in r_d:\n",
    "        m_hernquist_pred = halos.m_predicted(y=r/2,halo='hernquist')\n",
    "        m_burkert_pred = halos.m_predicted(y=r/2,halo='burkert')\n",
    "        halo_table['m_hernquist_{}R_d'.format(r)] = m_hernquist_pred['m']\n",
    "\n",
    "        halo_table['m_burkert_{}R_d'.format(r)] = m_burkert_pred['m']\n",
    "        \n",
    "    halo_table['M_disc_stars_2.2'] = halos.M_disc_22(False).data\n",
    "    halo_table['delta_M_disc_stars_2.2'] = halos.M_disc_22(False).uncertainty.array\n",
    "    \n",
    "    halo_table['M_disc_total_2.2'] = halos.M_disc_22(True).data\n",
    "    halo_table['delta_M_disc_total_2.2'] = halos.M_disc_22(True).uncertainty.array\n",
    "    \n",
    "    halo_table['M_bulge_2.2'] = halos.M_bulge_22().data\n",
    "    halo_table['delta_M_bulge_2.2'] = halos.M_bulge_22().uncertainty.array\n",
    "    \n",
    "    halo_table['M_halo_2.2_hernquist'] = halos.M_halo_22_hernquist().data\n",
    "    halo_table['delta_M_halo_2.2_hernquist'] = halos.M_halo_22_hernquist().uncertainty.array\n",
    "    \n",
    "    halo_table['M_halo_2.2_burkert'] = halos.M_halo_22_burkert().data\n",
    "    halo_table['delta_M_halo_2.2_burkert'] = halos.M_halo_22_burkert().uncertainty.array\n",
    "    \n",
    "    halo_table['Gamma_hernquist'] = halos.total_shear('hernquist').data\n",
    "    halo_table['delta_Gamma_hernquist'] = halos.total_shear('hernquist').uncertainty.array\n",
    "    \n",
    "    halo_table['Gamma_burkert'] = halos.total_shear('burkert').data\n",
    "    halo_table['delta_Gamma_burkert'] = halos.total_shear('burkert').uncertainty.array\n",
    "\n",
    "    halo_table['psi_hernquist'] = halos.psi_predicted('hernquist').data\n",
    "    halo_table['delta_psi_hernquist'] = halos.psi_predicted('hernquist').uncertainty.array\n",
    "    \n",
    "    halo_table['psi_burkert'] = halos.psi_predicted('burkert').data\n",
    "    halo_table['delta_psi_burkert'] = halos.psi_predicted('burkert').uncertainty.array\n",
    "    \n",
    "    return halo_table"
   ]
  },
  {
   "cell_type": "code",
   "execution_count": 10,
   "metadata": {
    "collapsed": false
   },
   "outputs": [
    {
     "data": {
      "image/png": "[encoded data removed]",
      "text/plain": [
       "<matplotlib.figure.Figure at 0x2b9a9844a208>"
      ]
     },
     "metadata": {},
     "output_type": "display_data"
    }
   ],
   "source": [
    "halo_table = get_halo_table(halos)\n",
    "\n",
    "f_bins = np.linspace(0,1,21)\n",
    "m_bins = np.linspace(0,10,21)\n",
    "psi_bins = np.linspace(10,30,21)\n",
    "Gamma_bins = np.linspace(0.5,1.5,21)\n",
    "\n",
    "fig, axarr = plt.subplots(2,2,figsize=(10,10))\n",
    "axarr = axarr.ravel()\n",
    "\n",
    "f_disc_hernquist = (halo_table['M_disc_stars_2.2']\n",
    "                 / (halo_table['M_disc_stars_2.2'] \n",
    "                  + halo_table['M_bulge_2.2'] \n",
    "                  + halo_table['M_halo_2.2_hernquist']))\n",
    "\n",
    "f_disc_burkert = (halo_table['M_disc_stars_2.2']\n",
    "                 / (halo_table['M_disc_stars_2.2'] \n",
    "                  + halo_table['M_bulge_2.2'] \n",
    "                  + halo_table['M_halo_2.2_burkert']))\n",
    "\n",
    "_ = axarr[0].hist(f_disc_hernquist,f_bins,alpha=0.5)\n",
    "_ = axarr[0].hist(f_disc_burkert,f_bins,alpha=0.5)\n",
    "_ = axarr[0].set_xlabel('$f_\\mathrm{disc}$')\n",
    "_ = axarr[0].set_ylabel('$N_\\mathrm{gal}$')\n",
    "\n",
    "_ = axarr[1].hist(halo_table['m_hernquist_2R_d'],m_bins,alpha=0.5)\n",
    "_ = axarr[1].hist(halo_table['m_burkert_2R_d'],m_bins,alpha=0.5)\n",
    "_ = axarr[1].set_xlabel('$m_\\mathrm{predicted}$')\n",
    "\n",
    "_ = axarr[2].hist(halo_table['Gamma_hernquist'],Gamma_bins,alpha=0.5)\n",
    "_ = axarr[2].hist(halo_table['Gamma_burkert'],Gamma_bins,alpha=0.5)\n",
    "_ = axarr[2].set_xlabel('$\\Gamma$')\n",
    "_ = axarr[2].set_ylabel('$N_\\mathrm{gal}$')\n",
    "\n",
    "_ = axarr[3].hist(halo_table['psi_hernquist'],psi_bins,alpha=0.5)\n",
    "_ = axarr[3].hist(halo_table['psi_burkert'],psi_bins,alpha=0.5)\n",
    "_ = axarr[3].set_xlabel('$\\psi_\\mathrm{predicted}$')"
   ]
  },
  {
   "cell_type": "code",
   "execution_count": 11,
   "metadata": {
    "collapsed": false
   },
   "outputs": [],
   "source": [
    "halo_table_all = Table()\n",
    "for c in halo_table.colnames:\n",
    "    halo_table_all[c] = np.full(len(galaxy_data),-999,dtype='float64')\n",
    "    halo_table_all[c][sample] = halo_table[c]\n",
    "\n",
    "halo_table_all['id'] = galaxy_data['object']\n",
    "halo_table_all['mask'] = sample\n",
    "\n",
    "halo_table.write('s4g_fits/halo_table.fits',overwrite=True)\n",
    "halo_table_all.write('s4g_fits/halo_table_all.fits',overwrite=True)"
   ]
  }
 ],
 "metadata": {
  "kernelspec": {
   "display_name": "Python 3",
   "language": "python",
   "name": "python3"
  },
  "language_info": {
   "codemirror_mode": {
    "name": "ipython",
    "version": 3
   },
   "file_extension": ".py",
   "mimetype": "text/x-python",
   "name": "python",
   "nbconvert_exporter": "python",
   "pygments_lexer": "ipython3",
   "version": "3.4.5"
  }
 },
 "nbformat": 4,
 "nbformat_minor": 0
}
