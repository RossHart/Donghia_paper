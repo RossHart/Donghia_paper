{
 "cells": [
  {
   "cell_type": "code",
   "execution_count": 1,
   "metadata": {
    "collapsed": true
   },
   "outputs": [],
   "source": [
    "from astropy.nddata import NDDataArray as nda, StdDevUncertainty as sdu\n",
    "from astropy.table import Table, column\n",
    "import astropy.units as u\n",
    "import numpy as np\n",
    "import os\n",
    "\n",
    "%matplotlib inline\n",
    "import matplotlib as mpl\n",
    "from matplotlib import pyplot as plt\n",
    "# better-looking plots\n",
    "plt.rcParams['font.family'] = 'serif'\n",
    "plt.rcParams['figure.figsize'] = (10.0, 8)\n",
    "plt.rcParams['font.size'] = 18\n",
    "mpl.ticker.AutoLocator.default_params['nbins'] = 5\n",
    "mpl.ticker.AutoLocator.default_params['prune'] = 'both'\n",
    "\n",
    "mpl.rcParams['ps.useafm'] = True\n",
    "mpl.rcParams['pdf.use14corefonts'] = True\n",
    "mpl.rcParams['text.usetex'] = True\n",
    "\n",
    "import sys\n",
    "sys.path.append('../astro_codes/')"
   ]
  },
  {
   "cell_type": "code",
   "execution_count": 2,
   "metadata": {
    "collapsed": true
   },
   "outputs": [],
   "source": [
    "halo = Table.read('fits/sdss_halo_table_matched.fits')\n",
    "halo_w_gas = Table.read('fits/sdss_w_gas_table_matched.fits')\n",
    "masks = Table.read('fits/masks.fits')\n",
    "\n",
    "s4g_halo = Table.read('fits/s4g_halo_table_matched.fits')\n",
    "s4g_masks = Table.read('s4g_fits/s4g_masks.fits')"
   ]
  },
  {
   "cell_type": "code",
   "execution_count": 3,
   "metadata": {
    "collapsed": false
   },
   "outputs": [],
   "source": [
    "in_sdss = masks['z<0.085 (unbarred spiral)']\n",
    "in_s4g = s4g_masks['spiral_unbarred']"
   ]
  },
  {
   "cell_type": "code",
   "execution_count": 4,
   "metadata": {
    "collapsed": false
   },
   "outputs": [],
   "source": []
  },
  {
   "cell_type": "code",
   "execution_count": null,
   "metadata": {
    "collapsed": false
   },
   "outputs": [],
   "source": []
  },
  {
   "cell_type": "code",
   "execution_count": null,
   "metadata": {
    "collapsed": false
   },
   "outputs": [],
   "source": [
    "s4g_halo['r_half'] = np.ones(len(s4g_halo)) * -999\n",
    "halo['r_half'] = np.ones(len(halo)) * -999\n",
    "halo_w_gas['r_half'] = np.ones(len(halo_w_gas)) * -999\n",
    "\n",
    "s4g_halo['r_half'][in_s4g] = r_half_s4g\n",
    "halo['r_half'][in_sdss] = r_half\n",
    "halo_w_gas['r_half'][in_sdss] = r_half_hi\n",
    "\n",
    "halo.write('fits/sdss_halo_table_matched.fits',overwrite=True)\n",
    "halo_w_gas.write('fits/sdss_w_gas_table_matched.fits',overwrite=True)\n",
    "s4g_halo.write('fits/s4g_halo_table_matched.fits',overwrite=True)"
   ]
  },
  {
   "cell_type": "code",
   "execution_count": null,
   "metadata": {
    "collapsed": true
   },
   "outputs": [],
   "source": []
  }
 ],
 "metadata": {
  "kernelspec": {
   "display_name": "Python 3",
   "language": "python",
   "name": "python3"
  },
  "language_info": {
   "codemirror_mode": {
    "name": "ipython",
    "version": 3
   },
   "file_extension": ".py",
   "mimetype": "text/x-python",
   "name": "python",
   "nbconvert_exporter": "python",
   "pygments_lexer": "ipython3",
   "version": "3.4.5"
  }
 },
 "nbformat": 4,
 "nbformat_minor": 0
}
