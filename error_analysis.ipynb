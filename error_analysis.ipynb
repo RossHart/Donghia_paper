{
 "cells": [
  {
   "cell_type": "code",
   "execution_count": 1,
   "metadata": {
    "collapsed": true
   },
   "outputs": [],
   "source": [
    "from astropy.table import Table, column, vstack\n",
    "import numpy as np\n",
    "import os\n",
    "import pandas as pd\n",
    "\n",
    "%matplotlib inline\n",
    "import matplotlib as mpl\n",
    "from matplotlib import pyplot as plt\n",
    "# better-looking plots\n",
    "plt.rcParams['font.family'] = 'serif'\n",
    "plt.rcParams['figure.figsize'] = (10.0, 8)\n",
    "plt.rcParams['font.size'] = 18\n",
    "mpl.ticker.AutoLocator.default_params['nbins'] = 5\n",
    "mpl.ticker.AutoLocator.default_params['prune'] = 'both'\n",
    "\n",
    "mpl.rcParams['ps.useafm'] = True\n",
    "mpl.rcParams['pdf.use14corefonts'] = True\n",
    "mpl.rcParams['text.usetex'] = True\n",
    "\n",
    "import sys\n",
    "sys.path.append('../astro_codes/')"
   ]
  },
  {
   "cell_type": "code",
   "execution_count": 2,
   "metadata": {
    "collapsed": true
   },
   "outputs": [],
   "source": [
    "import astropy.units as u\n",
    "import astropy.constants as const\n",
    "from scipy.special import kn as K, iv as I\n",
    "\n",
    "def m_equation(R,R_d,a_b,a_h,M_D,M_B,M_H,X=1.5):\n",
    "    \n",
    "    y = (R/(2*R_d)).value\n",
    "    a = np.exp(2*y)/X\n",
    "    b = (M_B/M_D) * ((2*y + (3*a_b/R_d)) / (2*y + (a_b/R_d))**3)\n",
    "    c = (M_H/M_D) * ((2*y + (3*a_h/R_d)) / (2*y + (a_h/R_d))**3)\n",
    "    d = (y**2/2) * (3*(I(1,y)*K(0,y)) - 3*(I(0,y)*K(1,y)) + (I(1,y)*K(2,y)) - (I(2,y)*K(1,y)))\n",
    "    e = (4*y) * (I(0,y)*K(0,y) - (I(1,y)*K(1,y)))\n",
    "    m = a*(b + c + d + e)\n",
    "    return m"
   ]
  },
  {
   "cell_type": "code",
   "execution_count": 395,
   "metadata": {
    "collapsed": true
   },
   "outputs": [],
   "source": [
    "M_b = 4e9 * u.Msun\n",
    "delta_M_b = 1e9 * u.Msun\n",
    "\n",
    "M_d = 1e10 * u.Msun\n",
    "delta_M_d = 1e9 * u.Msun\n",
    "\n",
    "a_b = 0.6 * u.kpc\n",
    "delta_a_b = 0.2 * u.kpc\n",
    "\n",
    "R_d = 3 * u.kpc\n",
    "delta_R_d = 0.5 * u.kpc\n",
    "\n",
    "M_hi = 4e9 * u.Msun\n",
    "delta_M_hi = 1e9 * u.Msun"
   ]
  },
  {
   "cell_type": "code",
   "execution_count": 398,
   "metadata": {
    "collapsed": false
   },
   "outputs": [],
   "source": [
    "from uncertainties import ufloat as uf, unumpy as unp\n",
    "from astropy.nddata import NDDataArray as nda, StdDevUncertainty as sdu\n",
    "import astropy.units as u\n",
    "\n",
    "class TotalHalo():\n",
    "    \n",
    "    def __init__(self,M_b,delta_M_b,M_d,delta_M_d,a_b,delta_a_b,\n",
    "                 R_d,delta_R_d,M_hi,delta_M_hi):\n",
    "        \n",
    "        self.M_b = M_b.to(u.Msun)\n",
    "        self.delta_M_b = delta_M_b.to(u.Msun)\n",
    "        self.M_d = M_d.to(u.Msun)\n",
    "        self.delta_M_d = delta_M_d.to(u.Msun)\n",
    "        self.a_b = a_b.to(u.kpc)\n",
    "        self.delta_a_b = delta_a_b.to(u.kpc)\n",
    "        self.R_d = R_d.to(u.kpc)\n",
    "        self.delta_R_d = delta_R_d.to(u.kpc)\n",
    "        self.M_hi = M_hi.to(u.Msun)\n",
    "        self.delta_M_hi = delta_M_hi.to(u.Msun)\n",
    "        \n",
    "        H0 = 70 * u.km/u.s/u.Mpc\n",
    "        rho_crit = (3 * H0**2) / (8*math.pi*const.G)\n",
    "        self.rho_crit = rho_crit.to(u.kg/u.m**3)\n",
    "        \n",
    "    def bulge_mass(self):\n",
    "        return nda(self.M_b,sdu(self.delta_M_b))\n",
    "    \n",
    "    def disc_mass(self,hi=True):\n",
    "        M_disc = nda(self.M_d,sdu(self.delta_M_d))\n",
    "        if hi is False:\n",
    "            return M_disc\n",
    "        else:\n",
    "            M_hi = nda(self.M_hi,sdu(self.delta_M_hi))\n",
    "            M_tot = M_disc.add(M_hi)\n",
    "            return M_tot\n",
    "    \n",
    "    def stellar_mass(self,hi=True):\n",
    "        return self.disc_mass(hi).add(self.bulge_mass())\n",
    "        \n",
    "    def halo_mass(self,alpha=-0.5,alpha_upper=-0.475,alpha_lower=-0.575,\n",
    "                  beta=0,logx0=10.4,gamma=1,\n",
    "                  logy0=1.61,logy0_lower=1.49,logy0_upper=1.75):\n",
    "\n",
    "        stellar_mass = uf(self.stellar_mass(hi=False).data,\n",
    "                          self.stellar_mass(hi=False).uncertainty.array)\n",
    "        \n",
    "        alpha = uf(alpha,np.max([alpha_upper-alpha,alpha-alpha_lower]))\n",
    "        beta = uf(beta,0)\n",
    "        x0 = uf(10**logx0,0)\n",
    "        gamma = uf(gamma,0)\n",
    "        y0 = uf(10**logy0,np.max([10**logy0_upper-10**logy0,\n",
    "                                  10**logy0-10**logy0_lower]))\n",
    "    \n",
    "        a = y0 * (stellar_mass/x0)**alpha\n",
    "        b = 1/2 + 1/2*((stellar_mass/x0)**gamma)\n",
    "        c = (beta-alpha)/gamma\n",
    "        y = a * b**c\n",
    "        halo_mass = y * stellar_mass\n",
    "        return nda(halo_mass.nominal_value,\n",
    "                   sdu(halo_mass.std_dev),unit=u.Msun)\n",
    "    \n",
    "    # --- Now for the sizes ---\n",
    "    def bulge_scale_length(self,scale=1.5,scale_error=0.2):\n",
    "        scale_factor = nda(scale,sdu(scale_error))\n",
    "        r_b = nda(a_b,sdu(delta_a_b))\n",
    "        r_b_mod = r_b.divide(scale_factor)\n",
    "        return r_b.divide(scale_factor)\n",
    "        \n",
    "    def halo_scale_length(self):\n",
    "        K = 3 / (4*np.pi*200*self.rho_crit)\n",
    "        M200 = self.halo_mass()\n",
    "        M200_value = M200.data * (u.Msun)\n",
    "        M200_error = M200.uncertainty.array * (u.Msun)\n",
    "        logc200 = 0.905 - 0.101 * np.log10(M200_value/(10**12 * u.Msun))\n",
    "        c200 = 10**logc200\n",
    "        r200 = (K*(M200_value))**(1/3)\n",
    "        r200 = r200.to(u.kpc)\n",
    "        r200_error = (1/3) * r200 * M200_error/M200_value\n",
    "        r_s = nda(r200,sdu(r200_error))\n",
    "        return r_s.divide(c200)\n",
    "    \n",
    "    def hi_scale_length(self,m=1.87,m_error=0.03,c=7.2,c_error=0.03,\n",
    "                        k=0.19,k_error=0.03): # Wang+14, Lelli+16\n",
    "        m_param = uf(m,m_error)\n",
    "        c_param = uf(c,c_error)\n",
    "        k_param = uf(k,k_error)\n",
    "        hi_mass = uf(self.M_hi.value,self.delta_M_hi.value)\n",
    "        loghimass = unp.log10(hi_mass)\n",
    "        logr_hi = (loghimass - c_param) / m\n",
    "        r_hi = 10**logr_hi\n",
    "        r_s = k_param * r_hi\n",
    "        return nda(r_s.nominal_value,sdu(r_s.std_dev),unit=u.kpc)\n",
    "    \n",
    "    def stellar_disc_scale_length(self,scale=1.5,scale_error=0.2):\n",
    "        scale_factor = nda(scale,sdu(scale_error))\n",
    "        r_d = nda(R_d,sdu(delta_R_d))\n",
    "        r_d_mod = r_d.divide(scale_factor)\n",
    "        return r_d.divide(scale_factor)\n",
    "    \n",
    "    def disc_scale_length(self): \n",
    "        r_d = uf(self.stellar_disc_scale_length().data,\n",
    "                 self.stellar_disc_scale_length().uncertainty.array)\n",
    "        r_g = uf(self.hi_scale_length().data,\n",
    "                 self.hi_scale_length().uncertainty.array)\n",
    "        \n",
    "        rho_d = uf(self.M_hi.value,self.delta_M_hi.value)/r_d\n",
    "        rho_g = uf(self.disc_mass(hi=False).data,\n",
    "                   self.disc_mass(hi=False).uncertainty.array)/r_g\n",
    "        \n",
    "        r_s = 1 / (unp.log((rho_d/(rho_g+rho_d)*unp.exp(1/r_g)) \n",
    "                         + (rho_g/(rho_g+rho_d)*unp.exp(1/r_d))))\n",
    "        \n",
    "        return nda(r_s.nominal_value,sdu(r_s.std_dev),unit=u.kpc)\n",
    "        "
   ]
  },
  {
   "cell_type": "code",
   "execution_count": 407,
   "metadata": {
    "collapsed": false
   },
   "outputs": [
    {
     "name": "stdout",
     "output_type": "stream",
     "text": [
      "bulge mass: 4000000000.0 +- 1000000000.0 (25.0%)\n",
      "disc mass: 14000000000.0 +- 1414213562.373095 (10.1%)\n",
      "halo mass: 674127647673.7296 +- 261110175881.5145 (38.73%)\n",
      "bulge scale length: 0.39999999999999997 +- 0.14360439485692011 (35.9%)\n",
      "disc scale length: 2.436536757629943 +- 0.393374240404731 (16.14%)\n",
      "halo scale length: 21.632776495805 +- 2.793011133285629 (12.91%)\n"
     ]
    }
   ],
   "source": [
    "halo = TotalHalo(M_b,delta_M_b,M_d,delta_M_d,a_b,delta_a_b,\n",
    "                 R_d,delta_R_d,M_hi,delta_M_hi)\n",
    "\n",
    "def printer(data,name):\n",
    "    print('{}: {} +- {} ({}%)'.format(name,data.data,data.uncertainty.array,\n",
    "                              np.round(data.uncertainty.array/data.data*100,2)))\n",
    "    return None\n",
    "\n",
    "names = ('bulge mass','disc mass','halo mass',\n",
    "         'bulge scale length','disc scale length','halo scale length')\n",
    "\n",
    "datas = (halo.bulge_mass(),halo.disc_mass(),halo.halo_mass(),\n",
    "         halo.bulge_scale_length(),halo.disc_scale_length(),\n",
    "         halo.halo_scale_length())\n",
    "\n",
    "for d, n in zip(datas,names):\n",
    "    printer(d,n)"
   ]
  },
  {
   "cell_type": "markdown",
   "metadata": {},
   "source": [
    "#### Check for a mass systematic:"
   ]
  },
  {
   "cell_type": "code",
   "execution_count": 26,
   "metadata": {
    "collapsed": false
   },
   "outputs": [],
   "source": [
    "#gz2_data = Table.read('../fits/full_sample_debiased_w_low_z_mod.fits')\n",
    "#axial_data = Table.read('../fits/Axial_ratios/dr7_isoAB_matched.fits')\n",
    "#mendel_data = Table.read('../sparcfire2/fits/mendel_matched.fits')"
   ]
  },
  {
   "cell_type": "code",
   "execution_count": 385,
   "metadata": {
    "collapsed": false
   },
   "outputs": [
    {
     "ename": "AttributeError",
     "evalue": "'module' object has no attribute 'mean'",
     "output_type": "error",
     "traceback": [
      "\u001b[1;31m---------------------------------------------------------------------------\u001b[0m",
      "\u001b[1;31mAttributeError\u001b[0m                            Traceback (most recent call last)",
      "\u001b[1;32m<ipython-input-385-3df818393570>\u001b[0m in \u001b[0;36m<module>\u001b[1;34m()\u001b[0m\n\u001b[1;32m----> 1\u001b[1;33m \u001b[0munp\u001b[0m\u001b[1;33m.\u001b[0m\u001b[0mmean\u001b[0m\u001b[1;33m(\u001b[0m\u001b[1;33m)\u001b[0m\u001b[1;33m\u001b[0m\u001b[0m\n\u001b[0m",
      "\u001b[1;31mAttributeError\u001b[0m: 'module' object has no attribute 'mean'"
     ]
    }
   ],
   "source": [
    "unp.mean()"
   ]
  },
  {
   "cell_type": "code",
   "execution_count": null,
   "metadata": {
    "collapsed": true
   },
   "outputs": [],
   "source": []
  }
 ],
 "metadata": {
  "kernelspec": {
   "display_name": "Python 3",
   "language": "python",
   "name": "python3"
  },
  "language_info": {
   "codemirror_mode": {
    "name": "ipython",
    "version": 3
   },
   "file_extension": ".py",
   "mimetype": "text/x-python",
   "name": "python",
   "nbconvert_exporter": "python",
   "pygments_lexer": "ipython3",
   "version": "3.4.5"
  }
 },
 "nbformat": 4,
 "nbformat_minor": 0
}
