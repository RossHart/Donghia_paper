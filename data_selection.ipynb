{
 "cells": [
  {
   "cell_type": "code",
   "execution_count": 1,
   "metadata": {
    "collapsed": true
   },
   "outputs": [],
   "source": [
    "from astropy.nddata import NDDataArray as nda, StdDevUncertainty as sdu\n",
    "from astropy.table import Table, column\n",
    "import astropy.units as u\n",
    "import numpy as np\n",
    "import os\n",
    "\n",
    "%matplotlib inline\n",
    "import matplotlib as mpl\n",
    "from matplotlib import pyplot as plt\n",
    "# better-looking plots\n",
    "plt.rcParams['font.family'] = 'serif'\n",
    "plt.rcParams['figure.figsize'] = (10.0, 8)\n",
    "plt.rcParams['font.size'] = 18\n",
    "mpl.ticker.AutoLocator.default_params['nbins'] = 5\n",
    "mpl.ticker.AutoLocator.default_params['prune'] = 'both'\n",
    "\n",
    "mpl.rcParams['ps.useafm'] = True\n",
    "mpl.rcParams['pdf.use14corefonts'] = True\n",
    "mpl.rcParams['text.usetex'] = True\n",
    "\n",
    "import sys\n",
    "sys.path.append('../astro_codes/')"
   ]
  },
  {
   "cell_type": "markdown",
   "metadata": {},
   "source": [
    "#### First task is sample selection:"
   ]
  },
  {
   "cell_type": "code",
   "execution_count": 2,
   "metadata": {
    "collapsed": false
   },
   "outputs": [],
   "source": [
    "gz2_data = Table.read('../fits/full_sample_debiased_w_low_z_mod.fits')\n",
    "axial_data = Table.read('../fits/Axial_ratios/dr7_isoAB_matched.fits')"
   ]
  },
  {
   "cell_type": "code",
   "execution_count": 3,
   "metadata": {
    "collapsed": false
   },
   "outputs": [
    {
     "name": "stderr",
     "output_type": "stream",
     "text": [
      "/home/ppxrh/anaconda3/lib/python3.4/site-packages/ipykernel/__main__.py:25: RuntimeWarning: invalid value encountered in true_divide\n"
     ]
    }
   ],
   "source": [
    "morph_data = Table()\n",
    "morph_data['dr7objid'] = gz2_data['dr7objid']\n",
    "\n",
    "p_spiral = (gz2_data['t01_smooth_or_features_a02_features_or_disk_debiased_rh']\n",
    "          * gz2_data['t02_edgeon_a05_no_debiased_rh']\n",
    "          * gz2_data['t04_spiral_a08_spiral_debiased_rh'])\n",
    "\n",
    "N_spiral = (gz2_data['t04_spiral_a08_spiral_count'] - \n",
    "            gz2_data['t11_arms_number_a37_cant_tell_count'])\n",
    "\n",
    "p_bar = gz2_data['t03_bar_a06_bar_debiased_rh']\n",
    "\n",
    "m_columns = ('t11_arms_number_a31_1_debiased_rh',\n",
    "             't11_arms_number_a32_2_debiased_rh',\n",
    "             't11_arms_number_a33_3_debiased_rh',\n",
    "             't11_arms_number_a34_4_debiased_rh',\n",
    "             't11_arms_number_a36_more_than_4_debiased_rh')\n",
    "\n",
    "m_array = np.array([gz2_data[c] for c in m_columns]).T\n",
    "m_absolute = np.argmax(m_array,axis=1) + 1\n",
    "m_absolute_max = np.max(m_array,axis=1)\n",
    "m_avg = np.zeros(len(m_array))\n",
    "for c in range(5):\n",
    "    m_avg += (c+1) * m_array[:,c]\n",
    "m_avg /= np.sum(m_array,axis=1)\n",
    "m_avg[np.isfinite(m_avg) == False] = 0\n",
    "\n",
    "morph_data['redshift'] = gz2_data['REDSHIFT_1']\n",
    "morph_data['axial_ratio'] = axial_data['isoB_g'] / axial_data['isoA_g']\n",
    "morph_data['p_spiral'] = p_spiral\n",
    "morph_data['N_spiral'] = N_spiral\n",
    "morph_data['p_bar'] = p_bar\n",
    "morph_data['m_avg'] = m_avg\n",
    "morph_data['m'] = m_absolute\n",
    "morph_data['p_m'] = m_absolute_max\n",
    "morph_data.write('fits/morph_data.fits',overwrite=True)"
   ]
  },
  {
   "cell_type": "markdown",
   "metadata": {},
   "source": [
    "#### Galaxy structure data (mass + size)"
   ]
  },
  {
   "cell_type": "code",
   "execution_count": 4,
   "metadata": {
    "collapsed": false
   },
   "outputs": [
    {
     "name": "stderr",
     "output_type": "stream",
     "text": [
      "WARNING: UnitsWarning: '[Msun]' did not parse as fits unit: Invalid character at col 0 [astropy.units.core]\n",
      "WARNING:astropy:UnitsWarning: '[Msun]' did not parse as fits unit: Invalid character at col 0\n"
     ]
    }
   ],
   "source": [
    "from combining_catalogues import match_ids, make_matched_catalogue\n",
    "\n",
    "simard_data = Table.read('../fits/Simard+Mendel/simard.fits')\n",
    "mendel_data = Table.read('../fits/Simard+Mendel/mendel_dusty.fits')"
   ]
  },
  {
   "cell_type": "code",
   "execution_count": 5,
   "metadata": {
    "collapsed": false
   },
   "outputs": [
    {
     "name": "stdout",
     "output_type": "stream",
     "text": [
      "248883 galaxies in the reference catalogue\n",
      "1123718 galaxies in the match catalogue\n",
      "---> 245259 matches in total\n",
      "248883 galaxies in the reference catalogue\n",
      "657996 galaxies in the match catalogue\n",
      "---> 237996 matches in total\n"
     ]
    }
   ],
   "source": [
    "ids_ = match_ids(gz2_data,simard_data,'dr7objid','objID')\n",
    "simard_matched = make_matched_catalogue(gz2_data,simard_data,ids_)\n",
    "simard_matched['dr7objid'] = gz2_data['dr7objid']\n",
    "simard_matched.write('../fits/Simard+Mendel/simard_matched.fits',\n",
    "                     overwrite=True)\n",
    "\n",
    "ids_ = match_ids(gz2_data,mendel_data,'dr7objid','objID')\n",
    "mendel_matched = make_matched_catalogue(gz2_data,mendel_data,ids_)\n",
    "mendel_matched['dr7objid'] = gz2_data['dr7objid']\n",
    "mendel_matched.write('../fits/Simard+Mendel/mendel_matched.fits',\n",
    "                     overwrite=True)"
   ]
  },
  {
   "cell_type": "code",
   "execution_count": 6,
   "metadata": {
    "collapsed": false
   },
   "outputs": [
    {
     "name": "stderr",
     "output_type": "stream",
     "text": [
      "/home/ppxrh/anaconda3/lib/python3.4/site-packages/ipykernel/__main__.py:5: RuntimeWarning: invalid value encountered in greater\n",
      "/home/ppxrh/anaconda3/lib/python3.4/site-packages/ipykernel/__main__.py:13: RuntimeWarning: invalid value encountered in less_equal\n",
      "/home/ppxrh/anaconda3/lib/python3.4/site-packages/ipykernel/__main__.py:14: RuntimeWarning: invalid value encountered in less_equal\n"
     ]
    }
   ],
   "source": [
    "structure_data = Table()\n",
    "structure_data['dr7objid'] = gz2_data['dr7objid']\n",
    "\n",
    "fit_ok = np.all([mendel_matched['Type'] != 4,mendel_matched['Type'] != -999,\n",
    "                 simard_matched['Re'] > 0, simard_matched['Rd'] > 0],axis=0)\n",
    "\n",
    "def mass_and_error(data,columns):\n",
    "    mass = 10**data[columns[0]]\n",
    "    mass_low = 10**data[columns[1]]\n",
    "    mass_high = 10**data[columns[2]]\n",
    "    mass_error = np.max([mass-mass_low,mass_high-mass],axis=0)\n",
    "    #mass_error = (mass_high - mass_low)/2\n",
    "    mass[(mass <= 0) | (np.isfinite(mass) == False)] = 1\n",
    "    mass_error[(mass_error <= 0) | (np.isfinite(mass_error) == False)] = 1 \n",
    "    return mass, mass_error\n",
    "\n",
    "m_b, m_b_error = mass_and_error(mendel_matched,['logMb','b_logMb','b_logmb_lc'])\n",
    "m_d,m_d_error = mass_and_error(mendel_matched,['logMd','b_logMd','b_logmd_lc'])\n",
    "m_total = nda(m_d,sdu(m_d_error)).add(nda(m_b,sdu(m_b_error)))\n",
    "m_t, m_t_error = m_total.data, m_total.uncertainty.array\n",
    "\n",
    "R_b, R_b_error = (simard_matched['Re'], simard_matched['e_Re'])\n",
    "R_d, R_d_error = (simard_matched['Rd'], simard_matched['e_Rd'])\n",
    "\n",
    "structure_data['m_b'] = m_b * u.Msun\n",
    "structure_data['delta_m_b'] = m_b_error * u.Msun\n",
    "structure_data['m_d'] = m_d * u.Msun\n",
    "structure_data['delta_m_d'] = m_d_error * u.Msun\n",
    "structure_data['m_t'] = m_t * u.Msun\n",
    "structure_data['delta_m_t'] = m_t_error * u.Msun#\n",
    "structure_data['R_b_r'] = R_b / (1+math.sqrt(2)) # Hernquist + half-mass conversion\n",
    "structure_data['delta_R_b_r'] = R_b_error / (1+math.sqrt(2))\n",
    "structure_data['R_d_r'] = R_d\n",
    "structure_data['delta_R_d_r'] = R_d_error\n",
    "structure_data['Type'] = mendel_matched['Type']\n",
    "structure_data['ok'] = fit_ok\n",
    "structure_data['PpS_mendel'] = mendel_matched['PpS']\n",
    "\n",
    "structure_data['R_b'] = structure_data['R_b_r'] / 1.5\n",
    "structure_data['delta_R_b'] = structure_data['delta_R_b_r'] / 1.5\n",
    "structure_data['R_d'] = structure_data['R_d_r'] / 1.5\n",
    "structure_data['delta_R_d'] = structure_data['delta_R_d_r'] / 1.5\n",
    "\n",
    "structure_data.write('fits/structure_data.fits',overwrite=True)"
   ]
  },
  {
   "cell_type": "markdown",
   "metadata": {},
   "source": [
    "#### Final data: HI data"
   ]
  },
  {
   "cell_type": "code",
   "execution_count": 7,
   "metadata": {
    "collapsed": false
   },
   "outputs": [],
   "source": [
    "a70_data = Table.read('../fits/SF_fits/a70.fits')\n",
    "teimoorinia_data = Table.read('../fits/ALFALFA/teimoorinia_hi.fits')"
   ]
  },
  {
   "cell_type": "code",
   "execution_count": 8,
   "metadata": {
    "collapsed": false
   },
   "outputs": [
    {
     "name": "stdout",
     "output_type": "stream",
     "text": [
      "248883 galaxies in the reference catalogue\n",
      "561585 galaxies in the match catalogue\n",
      "---> 225382 matches in total\n"
     ]
    }
   ],
   "source": [
    "# match up the Teimoorinia data to the GZ2 data\n",
    "from combining_catalogues import match_ids, make_matched_catalogue\n",
    "\n",
    "matched_ids = match_ids(gz2_data,teimoorinia_data,'dr7objid','ID_SDSS_')\n",
    "teimoorinia_matched = make_matched_catalogue(gz2_data,teimoorinia_data,matched_ids)\n",
    "teimoorinia_matched['dr7objid'] = gz2_data['dr7objid']\n",
    "\n",
    "teimoorinia_matched.write('fits/teimoorinia_matched.fits',overwrite=True)"
   ]
  },
  {
   "cell_type": "code",
   "execution_count": 9,
   "metadata": {
    "collapsed": false
   },
   "outputs": [],
   "source": [
    "hi_data = Table()\n",
    "hi_data['dr7objid'] = gz2_data['dr7objid']\n",
    "\n",
    "m_hi_t17 = (teimoorinia_matched['_logM_HI/M_*_'] \n",
    "          + teimoorinia_matched['_logM_*_'])\n",
    "\n",
    "hi_data['m_hi_t17'] = 10**m_hi_t17\n",
    "hi_data['cfgas'] = teimoorinia_matched['_C_fgas_']\n",
    "#hi_data['delta_m_hi_t17'] = 0.22 * hi_data['m_hi_t17']\n",
    "hi_data['delta_m_hi_t17'] = 2.303 * hi_data['m_hi_t17'] * 0.22\n",
    "\n",
    "hi_data['detcode'] = a70_data['detcode']\n",
    "\n",
    "hi_data['m_hi_a70'] = 10**a70_data['loghimass']\n",
    "hi_data['delta_m_hi_a70'] = 10**a70_data['loghimass'] / a70_data['snratio']\n",
    "\n",
    "a70_ok = a70_data['loghimass'] > 0\n",
    "\n",
    "hi_data['hi_mass'] = hi_data['m_hi_t17']\n",
    "hi_data['hi_mass_error'] = hi_data['delta_m_hi_t17']\n",
    "\n",
    "hi_data['hi_mass'][a70_ok] = hi_data['m_hi_a70'][a70_ok]\n",
    "hi_data['hi_mass_error'][a70_ok] = hi_data['delta_m_hi_a70'][a70_ok]\n",
    "\n",
    "hi_data.write('fits/hi_data.fits',overwrite=True)"
   ]
  },
  {
   "cell_type": "code",
   "execution_count": 12,
   "metadata": {
    "collapsed": false
   },
   "outputs": [
    {
     "name": "stderr",
     "output_type": "stream",
     "text": [
      "/home/ppxrh/anaconda3/lib/python3.4/site-packages/ipykernel/__main__.py:3: RuntimeWarning: divide by zero encountered in log10\n",
      "  app.launch_new_instance()\n"
     ]
    },
    {
     "data": {
      "image/png": "[encoded data removed]",
      "text/plain": [
       "<matplotlib.figure.Figure at 0x2af604c29320>"
      ]
     },
     "metadata": {},
     "output_type": "display_data"
    }
   ],
   "source": [
    "bins = np.linspace(8,12,11)\n",
    "\n",
    "_ = plt.hist(np.log10(hi_data['hi_mass']),bins)"
   ]
  },
  {
   "cell_type": "code",
   "execution_count": 13,
   "metadata": {
    "collapsed": false
   },
   "outputs": [
    {
     "data": {
      "text/plain": [
       "['mask',\n",
       " 'ID_SDSS_',\n",
       " '_RA_',\n",
       " '_Dec_',\n",
       " '_z_',\n",
       " '_logM_*_',\n",
       " '_logM_HI/M_*_',\n",
       " '_C_fgas_',\n",
       " '_PR_',\n",
       " '_sigma_fitN)',\n",
       " '_sigma_fit_',\n",
       " '_sigma_fgas_',\n",
       " 'dr7objid']"
      ]
     },
     "execution_count": 13,
     "metadata": {},
     "output_type": "execute_result"
    }
   ],
   "source": [
    "teimoorinia_matched.colnames"
   ]
  },
  {
   "cell_type": "code",
   "execution_count": 23,
   "metadata": {
    "collapsed": false
   },
   "outputs": [
    {
     "data": {
      "text/plain": [
       "[<matplotlib.lines.Line2D at 0x2af604f68860>]"
      ]
     },
     "execution_count": 23,
     "metadata": {},
     "output_type": "execute_result"
    },
    {
     "data": {
      "image/png": "[encoded data removed]",
      "text/plain": [
       "<matplotlib.figure.Figure at 0x2af604f68a20>"
      ]
     },
     "metadata": {},
     "output_type": "display_data"
    }
   ],
   "source": [
    "bins = np.linspace(8,12,41)\n",
    "x = teimoorinia_matched['_logM_*_']\n",
    "y = teimoorinia_matched['_logM_HI/M_*_']\n",
    "\n",
    "_ = plt.scatter(x,y)\n",
    "_ = plt.xlim(8,12)\n",
    "_ = plt.ylim(-2,1)\n",
    "\n",
    "x_g = np.linspace(8,12,100)\n",
    "y_g = -0.7 * x_g + 6.61\n",
    "plt.plot(x_g,y_g,color='k')"
   ]
  },
  {
   "cell_type": "code",
   "execution_count": 27,
   "metadata": {
    "collapsed": false
   },
   "outputs": [
    {
     "name": "stderr",
     "output_type": "stream",
     "text": [
      "/home/ppxrh/anaconda3/lib/python3.4/site-packages/ipykernel/__main__.py:5: RuntimeWarning: divide by zero encountered in log10\n"
     ]
    },
    {
     "data": {
      "image/png": "[encoded data removed]",
      "text/plain": [
       "<matplotlib.figure.Figure at 0x2af604fc5b00>"
      ]
     },
     "metadata": {},
     "output_type": "display_data"
    }
   ],
   "source": [
    "bins = np.linspace(8,12,100)\n",
    "\n",
    "_ = plt.hist(x,bins)\n",
    "\n",
    "y_2 = np.log10(hi_data['hi_mass'])\n",
    "_ = plt.hist(y_2,bins)"
   ]
  },
  {
   "cell_type": "code",
   "execution_count": null,
   "metadata": {
    "collapsed": true
   },
   "outputs": [],
   "source": []
  }
 ],
 "metadata": {
  "kernelspec": {
   "display_name": "Python 3",
   "language": "python",
   "name": "python3"
  },
  "language_info": {
   "codemirror_mode": {
    "name": "ipython",
    "version": 3
   },
   "file_extension": ".py",
   "mimetype": "text/x-python",
   "name": "python",
   "nbconvert_exporter": "python",
   "pygments_lexer": "ipython3",
   "version": "3.4.5"
  }
 },
 "nbformat": 4,
 "nbformat_minor": 0
}
