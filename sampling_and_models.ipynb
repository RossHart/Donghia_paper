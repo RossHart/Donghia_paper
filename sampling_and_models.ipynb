{
 "cells": [
  {
   "cell_type": "code",
   "execution_count": 1,
   "metadata": {
    "collapsed": true
   },
   "outputs": [],
   "source": [
    "from astropy.table import Table, column, vstack\n",
    "import astropy.units as u\n",
    "import numpy as np\n",
    "\n",
    "%matplotlib inline\n",
    "import matplotlib as mpl\n",
    "from matplotlib import pyplot as plt\n",
    "# better-looking plots\n",
    "plt.rcParams['font.family'] = 'serif'\n",
    "plt.rcParams['figure.figsize'] = (10.0, 8)\n",
    "plt.rcParams['font.size'] = 18\n",
    "mpl.ticker.AutoLocator.default_params['nbins'] = 5\n",
    "mpl.ticker.AutoLocator.default_params['prune'] = 'both'\n",
    "\n",
    "mpl.rcParams['ps.useafm'] = True\n",
    "mpl.rcParams['pdf.use14corefonts'] = True\n",
    "mpl.rcParams['text.usetex'] = True\n",
    "\n",
    "import sys\n",
    "sys.path.append('../astro_codes/')"
   ]
  },
  {
   "cell_type": "code",
   "execution_count": 2,
   "metadata": {
    "collapsed": false
   },
   "outputs": [],
   "source": [
    "import imp\n",
    "import halo_v2\n",
    "imp.reload(halo_v2)\n",
    "from halo_v2 import TotalHalo\n",
    "\n",
    "def unp_to_columns(table,uarray,label,dtype='float'):\n",
    "    data = [uarray[i].nominal_value for i in range(len(uarray))]\n",
    "    uncertainties = [uarray[i].std_dev for i in range(len(uarray))]\n",
    "    table[label] = data\n",
    "    table['delta_{}'.format(label)] = uncertainties\n",
    "    return None\n",
    "\n",
    "def get_halo_table(halo,r_d=[2]):\n",
    "\n",
    "    halo_table = Table()\n",
    "    # General masses + sizes\n",
    "    _ = unp_to_columns(halo_table,halo.M_disc + halo.M_hi,'M_disc')\n",
    "    _ = unp_to_columns(halo_table,halo.M_bulge,'M_bulge')\n",
    "    _ = unp_to_columns(halo_table,halo.M_halo(),'M_halo')\n",
    "\n",
    "    _ = unp_to_columns(halo_table,halo.baryonic_scalelength(),'R_disc')\n",
    "    _ = unp_to_columns(halo_table,halo.R_bulge,'R_bulge')\n",
    "    _ = unp_to_columns(halo_table,halo.R_halo()[0],'R_halo')\n",
    "    \n",
    "    # ancillary halo data\n",
    "    _ = unp_to_columns(halo_table,halo.R_halo()[1],'R200')\n",
    "    _ = unp_to_columns(halo_table,halo.burkert_rho0(),'rho0')\n",
    "    _ = unp_to_columns(halo_table,halo.M_halo_hernquist(),'M_h_hernquist')\n",
    "    \n",
    "    # Masses + sizes w/i 2.2R_d\n",
    "    _ = unp_to_columns(halo_table,halo.disc_mass_22(),'M_disc_2.2')\n",
    "    _ = unp_to_columns(halo_table,halo.bulge_mass_22(),'M_bulge_2.2')\n",
    "    _ = unp_to_columns(halo_table,halo.hernquist_mass_22(),\n",
    "                       'M_hernquist_2.2')\n",
    "    _ = unp_to_columns(halo_table,halo.burkert_mass_22(),\n",
    "                       'M_burkert_2.2')\n",
    "    \n",
    "    # Mass fractions:\n",
    "    _ = unp_to_columns(halo_table,halo.bulge_mass_22()\n",
    "                       /(halo.bulge_mass_22()\n",
    "                       + halo.disc_mass_22()\n",
    "                       + halo.hernquist_mass_22()),'f_b_hernquist')\n",
    "    \n",
    "    _ = unp_to_columns(halo_table,halo.bulge_mass_22()\n",
    "                       /(halo.bulge_mass_22()\n",
    "                       + halo.disc_mass_22()\n",
    "                       + halo.burkert_mass_22()),'f_b_burkert')\n",
    "    \n",
    "    _ = unp_to_columns(halo_table,halo.disc_mass_22()\n",
    "                       /(halo.bulge_mass_22()\n",
    "                       + halo.disc_mass_22()\n",
    "                       + halo.hernquist_mass_22()),'f_d_hernquist')\n",
    "    \n",
    "    _ = unp_to_columns(halo_table,halo.disc_mass_22()\n",
    "                       /(halo.bulge_mass_22()\n",
    "                       + halo.disc_mass_22()\n",
    "                       + halo.burkert_mass_22()),'f_d_burkert')\n",
    "    \n",
    "    _ = unp_to_columns(halo_table,halo.hernquist_mass_22()\n",
    "                       /(halo.bulge_mass_22()\n",
    "                       + halo.disc_mass_22()\n",
    "                       + halo.hernquist_mass_22()),'f_h_hernquist')\n",
    "    \n",
    "    _ = unp_to_columns(halo_table,halo.burkert_mass_22()\n",
    "                       /(halo.bulge_mass_22()\n",
    "                       + halo.disc_mass_22()\n",
    "                       + halo.burkert_mass_22()),'f_h_burkert')\n",
    "    \n",
    "    \n",
    "    \n",
    "    for r in r_d:\n",
    "        # arm numbers \n",
    "        _ = unp_to_columns(halo_table,halo.bulge_arm_number(),'m_bulge')\n",
    "        halo_table['m_disc'] = halo.disc_arm_number()\n",
    "        _ = unp_to_columns(halo_table,halo.hernquist_arm_number(),\n",
    "                           'm_hernquist')\n",
    "        _ = unp_to_columns(halo_table,halo.burkert_arm_number(),'m_burkert')\n",
    "        \n",
    "        _ = unp_to_columns(halo_table,halo.bulge_arm_number()\n",
    "                          + halo.disc_arm_number()\n",
    "                          + halo.hernquist_arm_number(),'m_total_hernquist')\n",
    "        \n",
    "        _ = unp_to_columns(halo_table,halo.bulge_arm_number()\n",
    "                          + halo.disc_arm_number()\n",
    "                          + halo.burkert_arm_number(),'m_total_burkert')\n",
    "        \n",
    "        # shear\n",
    "        _ = unp_to_columns(halo_table,halo.total_shear(halo='hernquist'),\n",
    "                           'Gamma_hernquist')\n",
    "        _ = unp_to_columns(halo_table,halo.total_shear(halo='burkert'),\n",
    "                           'Gamma_burkert')\n",
    "        # pitch angles\n",
    "        _ = unp_to_columns(halo_table,halo.pitch_angle(halo='hernquist'),\n",
    "                           'psi_hernquist')\n",
    "        _ = unp_to_columns(halo_table,halo.pitch_angle(halo='burkert'),\n",
    "                           'psi_burkert')\n",
    "        \n",
    "    return halo_table"
   ]
  },
  {
   "cell_type": "code",
   "execution_count": 3,
   "metadata": {
    "collapsed": false
   },
   "outputs": [
    {
     "data": {
      "text/plain": [
       "'\\n# test galaxy (MW)\\nimport imp\\nimport halo_modified\\nimp.reload(halo_modified)\\nfrom halo_modified import TotalHalo, get_halo_table\\nimport astropy.units as u\\n\\nMd = [10**10.7] * u.Msun\\ndelta_Md = [0] * u.Msun\\n\\nRd = [2.2] * u.kpc\\ndelta_Rd = [0.1] * u.kpc\\n\\nMb = [10**9.6] * u.Msun\\ndelta_Mb = [0] * u.Msun\\n\\nRb = [0.6] * u.kpc\\ndelta_Rb = [0] * u.kpc\\n\\nMhi = [0] * u.Msun\\ndelta_Mhi = [0] * u.Msun\\n\\nmw_halo = TotalHalo(Mb,delta_Mb,Md,delta_Md,Rb,delta_Rb,Rd,delta_Rd,\\n                    Mhi,delta_Mhi)\\n\\nmw_halo.total_shear()[0].uncertainty.array\\n'"
      ]
     },
     "execution_count": 3,
     "metadata": {},
     "output_type": "execute_result"
    }
   ],
   "source": [
    "'''\n",
    "# test galaxy (MW)\n",
    "import imp\n",
    "import halo_modified\n",
    "imp.reload(halo_modified)\n",
    "from halo_modified import TotalHalo, get_halo_table\n",
    "import astropy.units as u\n",
    "\n",
    "Md = [10**10.7] * u.Msun\n",
    "delta_Md = [0] * u.Msun\n",
    "\n",
    "Rd = [2.2] * u.kpc\n",
    "delta_Rd = [0.1] * u.kpc\n",
    "\n",
    "Mb = [10**9.6] * u.Msun\n",
    "delta_Mb = [0] * u.Msun\n",
    "\n",
    "Rb = [0.6] * u.kpc\n",
    "delta_Rb = [0] * u.kpc\n",
    "\n",
    "Mhi = [0] * u.Msun\n",
    "delta_Mhi = [0] * u.Msun\n",
    "\n",
    "mw_halo = TotalHalo(Mb,delta_Mb,Md,delta_Md,Rb,delta_Rb,Rd,delta_Rd,\n",
    "                    Mhi,delta_Mhi)\n",
    "\n",
    "mw_halo.total_shear()[0].uncertainty.array\n",
    "'''"
   ]
  },
  {
   "cell_type": "markdown",
   "metadata": {},
   "source": [
    "#### Load the relevant data"
   ]
  },
  {
   "cell_type": "code",
   "execution_count": 4,
   "metadata": {
    "collapsed": false
   },
   "outputs": [],
   "source": [
    "# SDSS + GZ2\n",
    "gz2_data = Table.read('../fits/full_sample_debiased_w_low_z_mod.fits')\n",
    "sdss_morph = Table.read('fits/morph_data.fits')\n",
    "sdss_structure = Table.read('fits/structure_data.fits')\n",
    "sdss_hi = Table.read('fits/hi_data.fits')\n",
    "masks = Table.read('fits/masks.fits')"
   ]
  },
  {
   "cell_type": "code",
   "execution_count": 5,
   "metadata": {
    "collapsed": false
   },
   "outputs": [
    {
     "name": "stderr",
     "output_type": "stream",
     "text": [
      "WARNING: UnitsWarning: 'AB' did not parse as fits unit: At col 0, Unit 'AB' not supported by the FITS standard. Did you mean aWb? [astropy.units.core]\n",
      "WARNING:astropy:UnitsWarning: 'AB' did not parse as fits unit: At col 0, Unit 'AB' not supported by the FITS standard. Did you mean aWb?\n"
     ]
    }
   ],
   "source": [
    "# S4G\n",
    "s4g_galaxy = Table.read('s4g_fits/galaxy_data.fits')\n",
    "s4g_structure = Table.read('s4g_fits/bulge_disc_matched.fits')\n",
    "s4g_morph = Table.read('s4g_fits/buta_matched.fits')\n",
    "s4g_psi = Table.read('s4g_fits/psi_matched.fits')"
   ]
  },
  {
   "cell_type": "markdown",
   "metadata": {},
   "source": [
    "#### Sample selection for S4G"
   ]
  },
  {
   "cell_type": "code",
   "execution_count": 6,
   "metadata": {
    "collapsed": false
   },
   "outputs": [
    {
     "name": "stdout",
     "output_type": "stream",
     "text": [
      "204/2352 galaxies with bulge+disc\n",
      "+ 101 are unbarred\n"
     ]
    },
    {
     "name": "stderr",
     "output_type": "stream",
     "text": [
      "/home/ppxrh/anaconda3/lib/python3.4/site-packages/ipykernel/__main__.py:5: RuntimeWarning: invalid value encountered in greater_equal\n",
      "/home/ppxrh/anaconda3/lib/python3.4/site-packages/ipykernel/__main__.py:6: RuntimeWarning: invalid value encountered in less_equal\n",
      "/home/ppxrh/anaconda3/lib/python3.4/site-packages/ipykernel/__main__.py:10: RuntimeWarning: invalid value encountered in less_equal\n"
     ]
    }
   ],
   "source": [
    "# Morphological selection of unbarred S4G galaxies (Buta+)\n",
    "has_arms = np.any([s4g_morph['AC'] == b'G',s4g_morph['AC'] == b'M',\n",
    "                   s4g_morph['AC'] == b'F'],axis=0)\n",
    "\n",
    "morph_ok = np.all([s4g_morph['__T_'] >= 1,\n",
    "                   s4g_morph['__T_'] <= 9],axis=0)\n",
    "\n",
    "has_arms = np.any([s4g_morph['AC'] == b'G',s4g_morph['AC'] == b'M',\n",
    "                   s4g_morph['AC'] == b'F'],axis=0)\n",
    "unbarred = s4g_morph['__F_'] <= 0.25\n",
    "\n",
    "# Type decompositions: only select galaxies with a clear disc\n",
    "acceptable_types = ('bd','bdbar','bdbarf','dbar','dbarf',\n",
    "                    'dn','bdbarfn','dbarfn','dbarn','dbarnf')\n",
    "type_ok = np.any([s4g_structure['model'] == type_ \n",
    "                  for type_ in acceptable_types],axis=0)\n",
    "\n",
    "bulge_disc_ok = (s4g_structure['f_bulge'] \n",
    "               + s4g_structure['f_disc']) >= 0.9\n",
    "# ^ only selecting the disc galaxies\n",
    "fit_ok = s4g_structure['quality'] == '5' # good fits only\n",
    "disc_ok = s4g_structure['R_d'] > 0\n",
    "\n",
    "# General catalogue properties\n",
    "has_mass = np.isfinite(s4g_galaxy['m_tot'])\n",
    "\n",
    "has_psi = s4g_psi['P_abs'] > 0\n",
    "\n",
    "s4g_sample = np.all([morph_ok,has_arms,\n",
    "                     type_ok,bulge_disc_ok,fit_ok,\n",
    "                     has_mass,disc_ok],axis=0)\n",
    "s4g_unbarred = np.all([s4g_sample,unbarred],axis=0)\n",
    "print('{}/{} galaxies with bulge+disc'.format(s4g_sample.sum(),\n",
    "                                              len(s4g_sample)))\n",
    "print('+ {} are unbarred'.format(s4g_unbarred.sum()))\n",
    "\n",
    "s4g_masks = Table()\n",
    "s4g_masks['spiral_ok'] = s4g_sample\n",
    "s4g_masks['spiral_unbarred'] = s4g_unbarred\n",
    "s4g_masks.write('s4g_fits/s4g_masks.fits',overwrite=True)"
   ]
  },
  {
   "cell_type": "code",
   "execution_count": 7,
   "metadata": {
    "collapsed": false
   },
   "outputs": [],
   "source": [
    "# S4G galaxies ...\n",
    "\n",
    "m_tot = s4g_galaxy['m_tot'][s4g_sample] * u.Msun\n",
    "delta_m_tot = s4g_galaxy['delta_m_tot'][s4g_sample] * u.Msun\n",
    "\n",
    "m_b = s4g_structure['f_bulge'][s4g_sample].data * m_tot\n",
    "m_b[m_b < 0] = 0\n",
    "delta_m_b = s4g_structure['f_bulge'][s4g_sample].data * delta_m_tot\n",
    "delta_m_b[delta_m_b < 0] = 0\n",
    "\n",
    "m_d = s4g_structure['f_disc'][s4g_sample].data * m_tot\n",
    "m_d[m_d < 0] = 0\n",
    "delta_m_d = s4g_structure['f_disc'][s4g_sample].data * delta_m_tot\n",
    "delta_m_d[delta_m_d < 0] = 0\n",
    "\n",
    "a_b = s4g_structure['R_b'][s4g_sample].data * u.kpc\n",
    "a_b[a_b < 0] = 0\n",
    "delta_a_b = s4g_structure['delta_R_b'][s4g_sample].data * u.kpc\n",
    "delta_a_b[a_b < 0] = 0\n",
    "\n",
    "R_d = s4g_structure['R_d'][s4g_sample].data * u.kpc\n",
    "R_d[R_d < 0] = 0\n",
    "delta_R_d = s4g_structure['delta_R_d'][s4g_sample].data * u.kpc\n",
    "R_d[delta_R_d < 0] = 0\n",
    "\n",
    "m_hi = 0 * u.Msun\n",
    "delta_m_hi = 0 * u.Msun\n",
    "\n",
    "\n",
    "s4g_halos = TotalHalo(m_b,delta_m_b,m_d,delta_m_d,\n",
    "                      a_b,delta_a_b,R_d,delta_R_d,\n",
    "                      m_hi,delta_m_hi,scale=1,scale_error=0)"
   ]
  },
  {
   "cell_type": "code",
   "execution_count": 8,
   "metadata": {
    "collapsed": false
   },
   "outputs": [],
   "source": [
    "# Sloan galaxies ...\n",
    "sample_ok = masks['z<0.085 (unbarred spiral)']\n",
    "# only do 200 to save time for now...\n",
    "#sample_adjust = np.argwhere(sample_ok == True)[200:]\n",
    "#sample_ok[sample_adjust] = False\n",
    "\n",
    "m_b = sdss_structure['m_b'][sample_ok].data * u.Msun\n",
    "delta_m_b = sdss_structure['delta_m_b'][sample_ok].data * u.Msun\n",
    "# Remove gals. with small poorly fit bulges\n",
    "no_bulge = sdss_structure[sample_ok]['Type'] == 2\n",
    "m_b[no_bulge] = 0 * u.Msun\n",
    "delta_m_b[no_bulge] = 0* u.Msun\n",
    "\n",
    "m_d = sdss_structure['m_d'][sample_ok].data * u.Msun\n",
    "delta_m_d = sdss_structure['delta_m_d'][sample_ok].data * u.Msun\n",
    "\n",
    "a_b = sdss_structure['R_b'][sample_ok].data * u.kpc\n",
    "delta_a_b = sdss_structure['delta_R_b'][sample_ok].data * u.kpc\n",
    "\n",
    "R_d = sdss_structure['R_d'][sample_ok].data * u.kpc\n",
    "delta_R_d = sdss_structure['delta_R_d'][sample_ok].data * u.kpc\n",
    "\n",
    "m_hi = sdss_hi['hi_mass'][sample_ok].data * u.Msun\n",
    "delta_m_hi = sdss_hi['hi_mass_error'][sample_ok].data * u.Msun\n",
    "#fig, axarr = plt.subplots(2,4,figsize=(20,10))\n",
    "\n",
    "sdss_halos = TotalHalo(m_b,delta_m_b,m_d,delta_m_d,\n",
    "                       a_b,delta_a_b,R_d,delta_R_d, \n",
    "                       0*u.Msun,0*u.Msun,scale=1.5,scale_error=0.2)\n",
    "\n",
    "sdss_w_gas = TotalHalo(m_b,delta_m_b,m_d,delta_m_d,\n",
    "                        a_b,delta_a_b,R_d,delta_R_d,\n",
    "                        m_hi,delta_m_hi,scale=1.5,scale_error=0.2)"
   ]
  },
  {
   "cell_type": "markdown",
   "metadata": {},
   "source": [
    "In this notebook, we now have four different haloes to compare:\n",
    "\n",
    "* SDSS stellar\n",
    "* SDSS stellar+gas discs\n",
    "* S4G\n",
    "* Milky Way"
   ]
  },
  {
   "cell_type": "code",
   "execution_count": 9,
   "metadata": {
    "collapsed": false
   },
   "outputs": [],
   "source": [
    "s4g_halo_table = get_halo_table(s4g_halos)\n",
    "sdss_halo_table = get_halo_table(sdss_halos)\n",
    "sdss_w_gas_table = get_halo_table(sdss_w_gas)"
   ]
  },
  {
   "cell_type": "markdown",
   "metadata": {},
   "source": [
    "#### Final task is to append the half light radius"
   ]
  },
  {
   "cell_type": "code",
   "execution_count": 10,
   "metadata": {
    "collapsed": true
   },
   "outputs": [],
   "source": [
    "from sersic import sersic_enc_lum_linear as M_enclosed, sersic_Ie as Ie \n",
    "\n",
    "def find_nearest(array,value):\n",
    "    idx = (np.abs(array-value)).argmin()\n",
    "    return idx\n",
    "\n",
    "def half_light_radius(Mb,Rb,Md,Rd):\n",
    "\n",
    "    rs = np.linspace(0.1,20,200)\n",
    "    mass_enclosed = []\n",
    "    Ie_bulge = Ie(Mb,Rb,4)\n",
    "    Ie_disc = Ie(Md,Rd,1)\n",
    "    M_total = Mb + Md\n",
    "    for r in rs:\n",
    "        mass_enclosed.append(M_enclosed(r,Ie_bulge,Rb,4) \n",
    "                           + M_enclosed(r,Ie_disc,Rd,1))\n",
    "        \n",
    "    i = find_nearest(np.array(mass_enclosed),M_total/2)\n",
    "    half_light_radius = rs[i]\n",
    "    return half_light_radius\n",
    "\n",
    "def calculate_r_half(table):\n",
    "    Mb = table['M_bulge']\n",
    "    Md = table['M_disc']\n",
    "    Rb = table['R_bulge'] * (1+math.sqrt(2))\n",
    "    Rd = table['R_disc'] * 1.678\n",
    "    r_half = []\n",
    "    for mb, md, rb, rd in zip(Mb,Md,Rb,Rd):\n",
    "        r_half.append(half_light_radius(mb,rb,md,rd))\n",
    "        \n",
    "    return r_half"
   ]
  },
  {
   "cell_type": "code",
   "execution_count": 11,
   "metadata": {
    "collapsed": false
   },
   "outputs": [
    {
     "name": "stderr",
     "output_type": "stream",
     "text": [
      "../astro_codes/sersic.py:57: RuntimeWarning: divide by zero encountered in double_scalars\n",
      "  Ie = M / (re**2*(2*pi*n) * exp(bn)/bn**(2*n) * gamma(2*n))\n",
      "../astro_codes/sersic.py:48: RuntimeWarning: divide by zero encountered in double_scalars\n",
      "  x = b(n) * (r/re)**(1.0/n)\n",
      "../astro_codes/sersic.py:41: RuntimeWarning: invalid value encountered in double_scalars\n",
      "  return Ie * re**2 * 2*pi*n * exp(bn)/(bn**(2*n)) * g2n\n"
     ]
    }
   ],
   "source": [
    "# S4G ...\n",
    "s4g_halo_table['r_half'] = calculate_r_half(s4g_halo_table)\n",
    "# SDSS ...\n",
    "sdss_halo_table['r_half'] = calculate_r_half(sdss_halo_table)\n",
    "# SDSS + HI...\n",
    "sdss_w_gas_table['r_half'] = calculate_r_half(sdss_w_gas_table)"
   ]
  },
  {
   "cell_type": "code",
   "execution_count": 12,
   "metadata": {
    "collapsed": false
   },
   "outputs": [],
   "source": [
    "def match_tables(match_table,halo_table,mask,id_column):\n",
    "    matched_table = Table()\n",
    "    for c in halo_table.colnames:\n",
    "        matched_table[c] = np.full(len(match_table),-999,dtype='float64')\n",
    "        matched_table[c][mask] = halo_table[c]\n",
    "    \n",
    "    matched_table['id'] = match_table[id_column]\n",
    "    matched_table['mask'] = mask\n",
    "    return matched_table\n",
    "\n",
    "sdss_halo_table_matched = match_tables(gz2_data,sdss_halo_table,\n",
    "                                       sample_ok,'dr7objid')\n",
    "sdss_w_gas_table_matched = match_tables(gz2_data,sdss_w_gas_table,\n",
    "                                        sample_ok,'dr7objid')\n",
    "s4g_halo_table_matched = match_tables(s4g_galaxy,s4g_halo_table,s4g_sample,\n",
    "                                'object')\n",
    "s4g_halo_table_matched['unbarred_sample'] = s4g_unbarred"
   ]
  },
  {
   "cell_type": "code",
   "execution_count": 13,
   "metadata": {
    "collapsed": false
   },
   "outputs": [],
   "source": [
    "sdss_halo_table.write('fits/sdss_halo_table.fits',overwrite=True)\n",
    "sdss_w_gas_table.write('fits/sdss_w_gas_table.fits',overwrite=True)\n",
    "s4g_halo_table.write('fits/s4g_halo_table.fits',overwrite=True)\n",
    "\n",
    "sdss_halo_table_matched.write('fits/sdss_halo_table_matched.fits',\n",
    "                              overwrite=True)\n",
    "sdss_w_gas_table_matched.write('fits/sdss_w_gas_table_matched.fits',\n",
    "                               overwrite=True)\n",
    "s4g_halo_table_matched.write('fits/s4g_halo_table_matched.fits',\n",
    "                             overwrite=True)"
   ]
  },
  {
   "cell_type": "code",
   "execution_count": 14,
   "metadata": {
    "collapsed": false
   },
   "outputs": [
    {
     "data": {
      "text/plain": [
       "(array([  9.36000000e+02,   2.49100000e+03,   2.03000000e+03,\n",
       "          1.38000000e+03,   6.17000000e+02,   1.12000000e+02,\n",
       "          2.10000000e+01,   1.50000000e+01,   4.00000000e+00,\n",
       "          0.00000000e+00,   2.00000000e+00,   2.00000000e+00,\n",
       "          0.00000000e+00,   0.00000000e+00,   0.00000000e+00,\n",
       "          0.00000000e+00,   0.00000000e+00,   0.00000000e+00,\n",
       "          0.00000000e+00,   0.00000000e+00,   0.00000000e+00,\n",
       "          0.00000000e+00,   0.00000000e+00,   0.00000000e+00,\n",
       "          1.00000000e+00]),\n",
       " array([ 0.03437585,  0.32752981,  0.62068378,  0.91383774,  1.2069917 ,\n",
       "         1.50014566,  1.79329962,  2.08645359,  2.37960755,  2.67276151,\n",
       "         2.96591547,  3.25906943,  3.5522234 ,  3.84537736,  4.13853132,\n",
       "         4.43168528,  4.72483924,  5.01799321,  5.31114717,  5.60430113,\n",
       "         5.89745509,  6.19060905,  6.48376301,  6.77691698,  7.07007094,\n",
       "         7.3632249 ]),\n",
       " <a list of 25 Patch objects>)"
      ]
     },
     "execution_count": 14,
     "metadata": {},
     "output_type": "execute_result"
    },
    {
     "data": {
      "image/png": "[encoded data removed]",
      "text/plain": [
       "<matplotlib.figure.Figure at 0x2ad855b9f358>"
      ]
     },
     "metadata": {},
     "output_type": "display_data"
    }
   ],
   "source": [
    "plt.hist(sdss_halo_table['psi_hernquist'],bins=25)\n",
    "plt.hist(sdss_halo_table['delta_psi_hernquist'],bins=25)"
   ]
  },
  {
   "cell_type": "code",
   "execution_count": null,
   "metadata": {
    "collapsed": true
   },
   "outputs": [],
   "source": []
  }
 ],
 "metadata": {
  "kernelspec": {
   "display_name": "Python 3",
   "language": "python",
   "name": "python3"
  },
  "language_info": {
   "codemirror_mode": {
    "name": "ipython",
    "version": 3
   },
   "file_extension": ".py",
   "mimetype": "text/x-python",
   "name": "python",
   "nbconvert_exporter": "python",
   "pygments_lexer": "ipython3",
   "version": "3.4.5"
  }
 },
 "nbformat": 4,
 "nbformat_minor": 0
}
